{
 "cells": [
  {
   "cell_type": "markdown",
   "metadata": {},
   "source": [
    "** 2/21/2017**\n",
    "\n",
    "**Extreme value theory and applications in finance **\n",
    "\n",
    "Natalie Packham\tBerlin School of Economics and Law\n"
   ]
  },
  {
   "cell_type": "markdown",
   "metadata": {},
   "source": [
    "### EVT "
   ]
  },
  {
   "cell_type": "markdown",
   "metadata": {},
   "source": [
    "* Pickands-Balkema-de Haan Theorem for tail of distribution\n",
    "\n",
    "* Classical EVT considering the maximum $M_n=\\text{max}(X_1,X_2,...,X_n)$\n",
    "\n",
    "* $\\nu$ in student-$t$: thickness of tail\n",
    "\n",
    "* Generalised extreme value distribution (GEV)\n",
    "    * $\\xi>0$ heavy-tailed\n",
    "    * $\\xi=0$ light-tailed\n",
    "    * $\\xi<0$ short-tailed\n",
    "\n",
    "* Maximum domain of attraction (MDA) of H: classification of short-, light-, and heavy-tailed models (distributions).\n",
    "    * e.g., MDA of Weibull distribution: beta distribution"
   ]
  },
  {
   "cell_type": "markdown",
   "metadata": {},
   "source": [
    "### Block maxima"
   ]
  },
  {
   "cell_type": "markdown",
   "metadata": {},
   "source": [
    "* Moment matching: if heavy-tailed data, then the second moment does not have\n",
    "\n",
    "* $1/\\xi$: tail index"
   ]
  },
  {
   "cell_type": "markdown",
   "metadata": {},
   "source": [
    "### Threshold exceedances\n",
    "\n",
    "* GPD: generalised Pareto distribution\n"
   ]
  },
  {
   "cell_type": "code",
   "execution_count": null,
   "metadata": {
    "collapsed": true
   },
   "outputs": [],
   "source": []
  },
  {
   "cell_type": "code",
   "execution_count": null,
   "metadata": {
    "collapsed": true
   },
   "outputs": [],
   "source": []
  },
  {
   "cell_type": "code",
   "execution_count": null,
   "metadata": {
    "collapsed": true
   },
   "outputs": [],
   "source": []
  }
 ],
 "metadata": {
  "kernelspec": {
   "display_name": "Python [conda root]",
   "language": "python",
   "name": "conda-root-py"
  },
  "language_info": {
   "codemirror_mode": {
    "name": "ipython",
    "version": 3
   },
   "file_extension": ".py",
   "mimetype": "text/x-python",
   "name": "python",
   "nbconvert_exporter": "python",
   "pygments_lexer": "ipython3",
   "version": "3.5.2"
  }
 },
 "nbformat": 4,
 "nbformat_minor": 2
}
